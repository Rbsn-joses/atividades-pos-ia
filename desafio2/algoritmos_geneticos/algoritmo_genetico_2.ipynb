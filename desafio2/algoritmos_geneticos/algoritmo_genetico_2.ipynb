{
 "cells": [
  {
   "cell_type": "markdown",
   "metadata": {},
   "source": [
    "# Algoritmo Genético para o Problema do Caixeiro Viajante\n",
    "\n",
    "Este notebook demonstra os componentes fundamentais de um algoritmo genético para resolver o Problema do Caixeiro Viajante (PCV). O objetivo é encontrar o caminho mais curto que passa por um conjunto de cidades.\n",
    "\n",
    "Vamos corrigir os erros de importação e explicar cada parte do código."
   ]
  },
  {
   "cell_type": "markdown",
   "metadata": {},
   "source": [
    "### 1. Imports\n",
    "\n",
    "Primeiro, importamos todas as bibliotecas necessárias. Os erros no código original (`NameError`) ocorreram porque estas bibliotecas não foram importadas.\n",
    "\n",
    "* **`random`**: Para gerar números aleatórios, criar as localizações das cidades e selecionar indivíduos.\n",
    "* **`typing`**: Para usar anotações de tipo (`List`, `Tuple`), que tornam o código mais legível.\n",
    "* **`math`**: Para a função de raiz quadrada (`sqrt`) no cálculo da distância euclidiana.\n",
    "* **`numpy`**: Para operações numéricas eficientes, especialmente no cálculo das probabilidades de seleção."
   ]
  },
  {
   "cell_type": "code",
   "execution_count": null,
   "metadata": {},
   "outputs": [],
   "source": [
    "import random\n",
    "from typing import List, Tuple\n",
    "import math\n",
    "import numpy as np"
   ]
  },
  {
   "cell_type": "markdown",
   "metadata": {},
   "source": [
    "### 2. Definição das Cidades\n",
    "\n",
    "Aqui, definimos o nosso problema: um conjunto de cidades em um plano 2D. Criamos uma lista de coordenadas `(x, y)` aleatórias para representar o mapa de cidades."
   ]
  },
  {
   "cell_type": "code",
   "execution_count": null,
   "metadata": {},
   "outputs": [],
   "source": [
    "N_CITIES = 15\n",
    "cities_locations = [(random.randint(0, 100), random.randint(0, 100)) for _ in range(N_CITIES)]\n",
    "\n",
    "print(\"Localização das cidades:\")\n",
    "print(cities_locations)"
   ]
  },
  {
   "cell_type": "markdown",
   "metadata": {},
   "source": [
    "### 3. Geração da População Inicial\n",
    "\n",
    "Um algoritmo genético trabalha com uma \"população\" de possíveis soluções. No nosso caso, uma solução é uma \"rota\" (uma sequência de cidades). Esta função cria um conjunto inicial de rotas aleatórias."
   ]
  },
  {
   "cell_type": "code",
   "execution_count": null,
   "metadata": {},
   "outputs": [],
   "source": [
    "def generate_random_population(cities_location: List[Tuple[float, float]], population_size: int) -> List[List[Tuple[float, float]]]:\n",
    "    \"\"\"\n",
    "    Gera uma população inicial de rotas aleatórias para um determinado conjunto de cidades.\n",
    "    \"\"\"\n",
    "    return [random.sample(cities_location, len(cities_location)) for _ in range(population_size)]"
   ]
  },
  {
   "cell_type": "markdown",
   "metadata": {},
   "source": [
    "### 4. Cálculo da Distância e do Fitness\n",
    "\n",
    "Para avaliar a qualidade de uma rota, precisamos de uma função de \"fitness\" (aptidão). No PCV, o fitness é simplesmente a distância total do percurso. Uma distância menor significa um fitness melhor.\n",
    "\n",
    "Primeiro, criamos uma função auxiliar para calcular a distância euclidiana entre duas cidades."
   ]
  },
  {
   "cell_type": "code",
   "execution_count": null,
   "metadata": {},
   "outputs": [],
   "source": [
    "def calculate_distance(point1: Tuple[float, float], point2: Tuple[float, float]) -> float:\n",
    "    \"\"\"\n",
    "    Calcula a distância euclidiana entre dois pontos.\n",
    "    \"\"\"\n",
    "    return math.sqrt((point1[0] - point2[0]) ** 2 + (point1[1] - point2[1]) ** 2)"
   ]
  },
  {
   "cell_type": "markdown",
   "metadata": {},
   "source": [
    "Agora, criamos a função de fitness que soma as distâncias entre cidades consecutivas em uma rota, incluindo a distância da última cidade de volta para a primeira."
   ]
  },
  {
   "cell_type": "code",
   "execution_count": null,
   "metadata": {},
   "outputs": [],
   "source": [
    "def calculate_fitness(path: List[Tuple[float, float]]) -> float:\n",
    "    \"\"\"\n",
    "    Calcula o \"fitness\" de uma rota (caminho) com base na distância euclidiana total.\n",
    "    \"\"\"\n",
    "    distance = 0\n",
    "    n = len(path)\n",
    "    for i in range(n):\n",
    "        # Calcula a distância da cidade atual para a próxima, fechando o ciclo\n",
    "        distance += calculate_distance(path[i], path[(i + 1) % n])\n",
    "    return distance"
   ]
  },
  {
   "cell_type": "markdown",
   "metadata": {},
   "source": [
    "### 5. Execução: Criando e Avaliando a População\n",
    "\n",
    "Agora vamos usar as funções que criamos. Primeiro, geramos uma população de 100 rotas aleatórias. Em seguida, calculamos o fitness (distância) para cada uma delas."
   ]
  },
  {
   "cell_type": "code",
   "execution_count": null,
   "metadata": {},
   "outputs": [],
   "source": [
    "# Gerar a população\n",
    "population_size = 100\n",
    "population = generate_random_population(cities_locations, population_size)\n",
    "\n",
    "# Calcular o fitness para cada indivíduo (rota) na população\n",
    "population_fitness = [calculate_fitness(individual) for individual in population]\n",
    "\n",
    "print(\"Exemplo de uma rota da população:\")\n",
    "print(population[0])\n",
    "print(f\"\\nFitness (distância) desta rota: {population_fitness[0]:.2f}\")"
   ]
  },
  {
   "cell_type": "markdown",
   "metadata": {},
   "source": [
    "### 6. Seleção dos Pais\n",
    "\n",
    "A fase de seleção escolhe os indivíduos mais aptos para gerar a próxima geração. Usamos a \"seleção por roleta\", onde rotas mais curtas (com melhor fitness) têm maior probabilidade de serem escolhidas.\n",
    "\n",
    "Como um fitness *menor* é melhor, a probabilidade de seleção será o *inverso* da distância. Normalizamos os valores para que a soma de todas as probabilidades seja 1."
   ]
  },
  {
   "cell_type": "code",
   "execution_count": null,
   "metadata": {},
   "outputs": [],
   "source": [
    "# A probabilidade é o inverso da distância. Distâncias menores (melhor fitness) devem ter maior probabilidade.\n",
    "inverse_fitness = 1 / np.array(population_fitness)\n",
    "\n",
    "# Normaliza as probabilidades para que a soma seja 1\n",
    "probabilities = inverse_fitness / np.sum(inverse_fitness)\n",
    "\n",
    "# Seleciona dois pais com base nas probabilidades calculadas\n",
    "parent1, parent2 = random.choices(population, weights=probabilities, k=2)\n",
    "\n",
    "print(\"Pai 1 selecionado:\")\n",
    "print(parent1)\n",
    "print(f\"\\nFitness do Pai 1: {calculate_fitness(parent1):.2f}\")\n",
    "\n",
    "print(\"\\nPai 2 selecionado:\")\n",
    "print(parent2)\n",
    "print(f\"\\nFitness do Pai 2: {calculate_fitness(parent2):.2f}\")"
   ]
  }
 ],
 "metadata": {
  "kernelspec": {
   "display_name": "Python 3",
   "language": "python",
   "name": "python3"
  },
  "language_info": {
   "name": "python",
   "version": "3.x.x"
  }
 },
 "nbformat": 4,
 "nbformat_minor": 2
}